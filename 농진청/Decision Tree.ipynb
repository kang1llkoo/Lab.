{
 "cells": [
  {
   "cell_type": "code",
   "execution_count": null,
   "id": "a1f48bf2",
   "metadata": {},
   "outputs": [],
   "source": [
    "import pandas as pd\n",
    "from sklearn.decomposition import PCA\n",
    "from sklearn.preprocessing import StandardScaler\n",
    "\n",
    "db = \n",
    "\n",
    "pd.set_option('display.max_columns', None)\n",
    "pd.set_option('display.expand_frame_repr', None)\n",
    "pd.set_option('display.max_rows', None)"
   ]
  },
  {
   "cell_type": "code",
   "execution_count": null,
   "id": "3ee1e065",
   "metadata": {},
   "outputs": [],
   "source": [
    "b = pd.DataFrame(db.query().get_points())\n",
    "b = b.set_index()"
   ]
  },
  {
   "cell_type": "code",
   "execution_count": null,
   "id": "49209fe2",
   "metadata": {},
   "outputs": [],
   "source": [
    "c = pd.DataFrame(db.query().get_points())\n",
    "c = c.set_index()"
   ]
  },
  {
   "cell_type": "code",
   "execution_count": null,
   "id": "c349d832",
   "metadata": {},
   "outputs": [],
   "source": [
    "d = pd.DataFrame(db.query().get_points())\n",
    "d = d.set_index()"
   ]
  },
  {
   "cell_type": "code",
   "execution_count": null,
   "id": "75fbd6e9",
   "metadata": {},
   "outputs": [],
   "source": [
    "change = []\n",
    "d1 = pd.get_dummies(d[change])\n",
    "d1 = d1.astype(int)"
   ]
  },
  {
   "cell_type": "code",
   "execution_count": null,
   "id": "ebc3263a",
   "metadata": {},
   "outputs": [],
   "source": [
    "cd1 = pd.concat([c, d1], axis = 1)"
   ]
  },
  {
   "cell_type": "code",
   "execution_count": null,
   "id": "146db350",
   "metadata": {},
   "outputs": [],
   "source": [
    "bcd1 = pd.concat([b, cd1], axis = 1)"
   ]
  },
  {
   "cell_type": "code",
   "execution_count": null,
   "id": "2e65ec13",
   "metadata": {},
   "outputs": [],
   "source": [
    "from sklearn.tree import DecisionTreeClassifier\n",
    "from sklearn.model_selection import cross_val_score\n",
    "from sklearn import tree"
   ]
  },
  {
   "cell_type": "code",
   "execution_count": null,
   "id": "fc05587c",
   "metadata": {},
   "outputs": [],
   "source": [
    "b = pd.DataFrame(db.query().get_points)\n",
    "b = b.drop(columns = [])"
   ]
  },
  {
   "cell_type": "code",
   "execution_count": null,
   "id": "a34f5e27",
   "metadata": {},
   "outputs": [],
   "source": [
    "c = pd.DataFrame(db.query().get_points)\n",
    "c = c.drop(columns = [])"
   ]
  },
  {
   "cell_type": "code",
   "execution_count": null,
   "id": "24c06f2e",
   "metadata": {},
   "outputs": [],
   "source": [
    "d = pd.DataFrame(db.query().get_points)\n",
    "change = []\n",
    "d1 = pd.get_dummies(d[change])\n",
    "d1 = d1.astype(int)"
   ]
  },
  {
   "cell_type": "code",
   "execution_count": null,
   "id": "5d252dc3",
   "metadata": {},
   "outputs": [],
   "source": [
    "cd1 = pd.concat([c, d1], axis = 1)"
   ]
  },
  {
   "cell_type": "code",
   "execution_count": null,
   "id": "fd738338",
   "metadata": {},
   "outputs": [],
   "source": [
    "bcd1 = pd.concat([b, cd1], axis = 1)"
   ]
  },
  {
   "cell_type": "code",
   "execution_count": null,
   "id": "0e7a8ac7",
   "metadata": {},
   "outputs": [],
   "source": [
    "from sklearn.tree import DecisionTreeRegressor\n",
    "from sklearn.model_selection import cross_val_score\n",
    "from sklearn import tree\n",
    "import graphviz\n",
    "import os\n",
    "\n",
    "bcd1_cleaned = bcd1.dropna(subset = [])\n",
    "\n",
    "X = bcd1_cleaned.drop(columns = [])\n",
    "y = bcd1_cleaned[]\n",
    "\n",
    "clf = DecisionTreeRegressor(max_depth = )\n",
    "clf.fit(X, y)\n",
    "\n",
    "feature_names = X.columns.tolist()\n",
    "\n",
    "data = tree.export_graphviz(clf, out_file = None, feature_names = feature_names, filed = True, rounded = True, special_characters = True)\n",
    "graph = graphviz.Source(data)\n",
    "graph"
   ]
  },
  {
   "cell_type": "code",
   "execution_count": null,
   "id": "ada13fc8",
   "metadata": {},
   "outputs": [],
   "source": [
    "importance = bcd1_cleaned.corr(method = 'pearson')\n",
    "importance"
   ]
  }
 ],
 "metadata": {
  "kernelspec": {
   "display_name": "Python 3 (ipykernel)",
   "language": "python",
   "name": "python3"
  },
  "language_info": {
   "codemirror_mode": {
    "name": "ipython",
    "version": 3
   },
   "file_extension": ".py",
   "mimetype": "text/x-python",
   "name": "python",
   "nbconvert_exporter": "python",
   "pygments_lexer": "ipython3",
   "version": "3.11.5"
  }
 },
 "nbformat": 4,
 "nbformat_minor": 5
}
