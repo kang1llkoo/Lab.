{
 "cells": [
  {
   "cell_type": "markdown",
   "id": "288cb33b",
   "metadata": {},
   "source": [
    "### 최대 최소 정규화 코드"
   ]
  },
  {
   "cell_type": "code",
   "execution_count": null,
   "id": "cc0d08fe",
   "metadata": {},
   "outputs": [],
   "source": [
    "def minmax_set_norm(arr, set_min, set_max, new_min=0, new_max=1):\n",
    "    arr = np.array(arr)\n",
    "    set_range = set_max - set_min\n",
    "    new_range = new_max - new_min\n",
    "    new_arr = (((arr - set_min) * new_range) / set_range) + new_min\n",
    "    \n",
    "    new_arr[new_arr < new_min] = new_min\n",
    "    new_arr[new_arr > new_max] = new_max\n",
    "    \n",
    "    return new_arr"
   ]
  }
 ],
 "metadata": {
  "kernelspec": {
   "display_name": "Python 3 (ipykernel)",
   "language": "python",
   "name": "python3"
  },
  "language_info": {
   "codemirror_mode": {
    "name": "ipython",
    "version": 3
   },
   "file_extension": ".py",
   "mimetype": "text/x-python",
   "name": "python",
   "nbconvert_exporter": "python",
   "pygments_lexer": "ipython3",
   "version": "3.11.5"
  }
 },
 "nbformat": 4,
 "nbformat_minor": 5
}
