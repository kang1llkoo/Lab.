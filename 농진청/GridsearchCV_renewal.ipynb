{
 "cells": [
  {
   "cell_type": "markdown",
   "id": "d7136a80",
   "metadata": {},
   "source": [
    "### input data 형태 설정 & 모델 설정"
   ]
  },
  {
   "cell_type": "code",
   "execution_count": null,
   "id": "23448abe",
   "metadata": {},
   "outputs": [],
   "source": [
    "input_shape = x_train_3d.shape  # (batch_size, time_steps, num_features)\n",
    "model = create_lstm_normal_model(input_shape)"
   ]
  },
  {
   "cell_type": "markdown",
   "id": "3932b3d7",
   "metadata": {},
   "source": [
    "### model 학습"
   ]
  },
  {
   "cell_type": "code",
   "execution_count": null,
   "id": "b8ce323b",
   "metadata": {},
   "outputs": [],
   "source": [
    "history = model.fit(x_train_3d, y_train_3d, \n",
    "                    epochs=42, \n",
    "                    validation_data=(x_test_3d, y_test_3d))"
   ]
  },
  {
   "cell_type": "markdown",
   "id": "3f661019",
   "metadata": {},
   "source": [
    "### 예측값 출력"
   ]
  },
  {
   "cell_type": "code",
   "execution_count": null,
   "id": "92ddf1ca",
   "metadata": {},
   "outputs": [],
   "source": [
    "y_pred = model.predict(x_test_3d)"
   ]
  },
  {
   "cell_type": "markdown",
   "id": "7f41b4ab",
   "metadata": {},
   "source": [
    "### MSE 출력"
   ]
  },
  {
   "cell_type": "code",
   "execution_count": null,
   "id": "b065fd4a",
   "metadata": {},
   "outputs": [],
   "source": [
    "test_results = model.evaluate(x_test_3d, y_test_3d)\n",
    "test_mse = test_results[0]\n",
    "print(\"\\nTest MSE:\", test_mse)"
   ]
  },
  {
   "cell_type": "markdown",
   "id": "54e94418",
   "metadata": {},
   "source": [
    "### Hyperparameter Tuning"
   ]
  },
  {
   "cell_type": "code",
   "execution_count": null,
   "id": "e90db7a4",
   "metadata": {},
   "outputs": [],
   "source": [
    "from keras.models import Model\n",
    "from keras.layers import LSTM, Dense, Input, Reshape\n",
    "from scikeras.wrappers import KerasRegressor\n",
    "from sklearn.model_selection import GridSearchCV\n",
    "from keras.losses import MeanSquaredError\n",
    "import tensorflow as tf\n",
    "import numpy as np\n",
    "\n",
    "def create_lstm_normal_model(units1, units2, activation, learning_rate):\n",
    "    # Input Layer\n",
    "    inputs = Input(shape=(input_shape[1], input_shape[2]))  # (time_step, num_features)\n",
    "    lstm_out = LSTM(units=units1, return_sequences=True)(inputs)  # first LSTM Layer\n",
    "    lstm_out = LSTM(units=units1, return_sequences=False)(lstm_out)  # second LSTM Layer\n",
    "    # Dense Layer\n",
    "    dense_out = Dense(units2, activation=activation)(lstm_out)  # Dense 레이어에 activation 함수 적용\n",
    "    # final Output Layer\n",
    "    outputs = Dense(2)(dense_out)  # 2차원 출력 (ex: (batch_size, 2))\n",
    "    outputs = keras.layers.Reshape((1, 2))(outputs)\n",
    "    model = keras.models.Model(inputs = inputs, outputs = outputs)\n",
    "    model.compile(\n",
    "        optimizer=keras.optimizers.Adam(learning_rate = learning_rate),\n",
    "        loss = 'mean_squared_error',\n",
    "        metrics = [\n",
    "            keras.metrics.MeanSquaredError(),\n",
    "            keras.metrics.RootMeanSquaredError(),\n",
    "            keras.metrics.MeanAbsoluteError()\n",
    "        ]\n",
    "    )\n",
    "    return model\n",
    "\n",
    "# KerasRegressor 설정\n",
    "input_shape = x_train_3d.shape  # (batch_size, time_steps, num_features)\n",
    "lstm_regressor = KerasRegressor(model=create_lstm_normal_model, verbose=3)\n",
    "\n",
    "# 파라미터 범위 설정\n",
    "param_grid = {\n",
    "    'model__units1': [32, 128],\n",
    "    'model__units2': [16, 32, 64],\n",
    "    'model__activation': [None, 'relu'],\n",
    "    'model__learning_rate': [0.001],\n",
    "    'epochs' : [42, 44, 46, 48, 50]\n",
    "}\n",
    "\n",
    "# GridSearchCV 설정\n",
    "grid_search = GridSearchCV(estimator=lstm_regressor, param_grid=param_grid)\n",
    "grid_result = grid_search.fit(x_train_3d, y_train_reshaped)  # 2차원 y_train_reshaped 사용 ▶ GridsearchCV: 2차원의 입력만 받기 가능\n",
    "\n",
    "# 상위 5개의 결과 출력 및 테스트 MSE 계산\n",
    "def print_top_5_results(grid_result, x_test_3d, y_test_3d):\n",
    "    # GridSearch 결과에서 상위 5개 추출\n",
    "    results = grid_result.cv_results_\n",
    "    \n",
    "    # 'rank_test_score'를 기준으로 정렬하여 상위 5개 인덱스 추출\n",
    "    top_5_idx = np.argsort(results['rank_test_score'])[:5]\n",
    "    \n",
    "    # 상위 5개 결과 출력\n",
    "    print(\"\\nTop 5 Results:\")\n",
    "    for i, idx in enumerate(top_5_idx):\n",
    "        print(f\"Rank {i+1}\")\n",
    "        print(f\"Params: {results['params'][idx]}\")\n",
    "        print(f\"Mean Cross-Validation Score (MSE): {results['mean_test_score'][idx]}\")\n",
    "    \n",
    "    # 각 상위 5개의 파라미터로 모델을 학습한 후 테스트 데이터에 대해 MSE 계산\n",
    "    print(\"\\nTop 5 Test MSE:\")\n",
    "    mse_object = MeanSquaredError()  # MSE 계산을 위한 객체\n",
    "    for i, idx in enumerate(top_5_idx):\n",
    "        best_params = results['params'][idx]\n",
    "        print(f\"\\nRank {i+1} - Params: {best_params}\")\n",
    "        \n",
    "        # 'model__' 접두어 제거\n",
    "        clean_params = {key.replace('model__', ''): value for key, value in best_params.items()}\n",
    "        \n",
    "        # 해당 파라미터로 모델 생성 및 학습\n",
    "        best_epochs = best_params.pop('epochs')\n",
    "        model = create_lstm_normal_model(**clean_params)\n",
    "        model.fit(x_train_3d, y_train_reshaped, epochs=best_epochs, verbose=0)\n",
    "        \n",
    "        # 테스트 데이터에 대한 예측 및 MSE 계산 (3차원 y_test_3d 사용)\n",
    "        y_test_pred = model.predict(x_test_3d)\n",
    "        \n",
    "        # MSE 계산\n",
    "        test_mse = mse_object(y_test_3d.reshape(-1, 2), y_test_pred.reshape(-1, 2)).numpy()  # MSE 객체로 계산\n",
    "        print(f\"Test MSE: {test_mse}\")\n",
    "\n",
    "# 함수 실행\n",
    "print_top_5_results(grid_result, x_test_3d, y_test_3d)"
   ]
  }
 ],
 "metadata": {
  "kernelspec": {
   "display_name": "Python 3 (ipykernel)",
   "language": "python",
   "name": "python3"
  },
  "language_info": {
   "codemirror_mode": {
    "name": "ipython",
    "version": 3
   },
   "file_extension": ".py",
   "mimetype": "text/x-python",
   "name": "python",
   "nbconvert_exporter": "python",
   "pygments_lexer": "ipython3",
   "version": "3.11.5"
  }
 },
 "nbformat": 4,
 "nbformat_minor": 5
}
