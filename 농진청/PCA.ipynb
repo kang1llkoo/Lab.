{
 "cells": [
  {
   "cell_type": "code",
   "execution_count": null,
   "id": "d3f84601",
   "metadata": {},
   "outputs": [],
   "source": [
    "from pandas as pd\n",
    "from sklearn.decomposition import PCA\n",
    "from sklearn.preprocessing import StandardScaler\n",
    "\n",
    "db\n",
    "\n",
    "pd.set_option('display.max_columns', None)\n",
    "pd.set_option('display.expand_frame_repr', None)\n",
    "pd.set_option('display.max_rows', None)"
   ]
  },
  {
   "cell_type": "code",
   "execution_count": null,
   "id": "d3da38d6",
   "metadata": {},
   "outputs": [],
   "source": [
    "b = pd.DataFrame(db.query().get_points())\n",
    "b = b.set_index()\n",
    "b"
   ]
  },
  {
   "cell_type": "code",
   "execution_count": null,
   "id": "fdbb2139",
   "metadata": {},
   "outputs": [],
   "source": [
    "c = pd.DataFrame(db.query().get_points())\n",
    "c = c.set_index()\n",
    "c"
   ]
  },
  {
   "cell_type": "code",
   "execution_count": null,
   "id": "78f7f4b1",
   "metadata": {},
   "outputs": [],
   "source": [
    "d = pd.DataFrame(db.query().get_points())\n",
    "d"
   ]
  },
  {
   "cell_type": "code",
   "execution_count": null,
   "id": "559942a2",
   "metadata": {},
   "outputs": [],
   "source": [
    "change = []\n",
    "# one-hot encoding 수행\n",
    "d1 = pd.get_dummies(d[change])\n",
    "d1 = d1.astype(int)"
   ]
  },
  {
   "cell_type": "code",
   "execution_count": null,
   "id": "60ae0946",
   "metadata": {},
   "outputs": [],
   "source": [
    "cd1 = pd.concat([c, d1], axis=1)"
   ]
  },
  {
   "cell_type": "code",
   "execution_count": null,
   "id": "8fe1d730",
   "metadata": {},
   "outputs": [],
   "source": [
    "bcd1 = pd.concat([b, cd1], axis = 1)"
   ]
  },
  {
   "cell_type": "code",
   "execution_count": null,
   "id": "3a4957df",
   "metadata": {},
   "outputs": [],
   "source": [
    "import plotly.express as px\n",
    "from sklearn.decomposition import PCA\n",
    "from sklearn.preprocessing import StandardScaler\n",
    "import numpy as np\n",
    "\n",
    "bcd1_df = bcd1[[]]\n",
    "\n",
    "# 독립 변수\n",
    "X = bcd1_df[[]]\n",
    "\n",
    "# 종속 변수\n",
    "y = bcd1_df[]\n",
    "\n",
    "# Standardscaler: 평균 0, 분산 1로 조정\n",
    "scaler = StandardScaler()\n",
    "X_scaled = scaler.fit_transform(X)\n",
    "\n",
    "# PCA 모델 설정\n",
    "pca = PCA(n_components = 2)\n",
    "components = pca.fit_transform(X_scaled)\n",
    "\n",
    "loadings = pca.components_.T * np.sqrt(pca.explained_variance)\n",
    "\n",
    "# drag & drop plot \n",
    "fig = px.scatter(components, x = 0, y = 1, color = components[:, 0])\n",
    "for i, feature in enumerate(X.columns):\n",
    "    fig.add_annotation(\n",
    "        ax = 0, ay = 0,\n",
    "        axref = \"x\", ayref = \"y\",\n",
    "        x = loadings[i, 0],\n",
    "        y = loadings[i, 1],\n",
    "        showarrow = True,\n",
    "        arrowsize = 2,\n",
    "        arrowhead = 2,\n",
    "        xanchor = \"right\",\n",
    "        yanchor = \"top\"\n",
    "    )\n",
    "    \n",
    "    fig.add_annotation(\n",
    "        x = loadings[i, 0],\n",
    "        y = loadings[i, 1],\n",
    "        ax = 0, ay = 0,\n",
    "        xanchor = \"center\",\n",
    "        yanchor = \"bottom\",\n",
    "        text = feature,\n",
    "        yshift = 5\n",
    "    )\n",
    "    \n",
    "fig.show()"
   ]
  },
  {
   "cell_type": "code",
   "execution_count": null,
   "id": "7f1589cd",
   "metadata": {},
   "outputs": [],
   "source": [
    "# 각 변수와 PCA 축 간의 각도 계산\n",
    "angle_df = pd.DataFrame({'Feature': X.columns, 'Angle': np.arctan2(loadings[:, 1], loadings[:, 0])})\n",
    "\n",
    "# 0이 아닌 값만 남기기\n",
    "angle_df = angle_df[angle_df['Angle'] != 0]\n",
    "\n",
    "# 절댓값을 기준으로 정렬\n",
    "angle_df['Absolute_Angle'] = angle_df['Angle'].abs()\n",
    "angle_df = angle_df.sort_values(by='Absolute_Angle')\n",
    "\n",
    "# 절댓값 열 제거하고 결과 출력\n",
    "print(angle_df[['Feature', 'Angle']].reset_index(drop=True))"
   ]
  },
  {
   "cell_type": "code",
   "execution_count": null,
   "id": "00b72f60",
   "metadata": {},
   "outputs": [],
   "source": [
    "# 각 열의 피어슨 상관계수 반환\n",
    "importance = bcd1_df.corr(method = 'pearson')\n",
    "importance"
   ]
  },
  {
   "cell_type": "code",
   "execution_count": null,
   "id": "99174c98",
   "metadata": {},
   "outputs": [],
   "source": [
    "importance['difference']"
   ]
  },
  {
   "cell_type": "code",
   "execution_count": null,
   "id": "3c815bb8",
   "metadata": {},
   "outputs": [],
   "source": [
    "import statsmodels.api as sm\n",
    "X2 = sm.add_constant(X)\n",
    "est = sm.OLS(y, X2)\n",
    "est2 = est.fit()\n",
    "print(est2.summary())"
   ]
  },
  {
   "cell_type": "code",
   "execution_count": null,
   "id": "22add89c",
   "metadata": {},
   "outputs": [],
   "source": []
  },
  {
   "cell_type": "code",
   "execution_count": null,
   "id": "55d97f31",
   "metadata": {},
   "outputs": [],
   "source": []
  }
 ],
 "metadata": {
  "kernelspec": {
   "display_name": "Python 3 (ipykernel)",
   "language": "python",
   "name": "python3"
  },
  "language_info": {
   "codemirror_mode": {
    "name": "ipython",
    "version": 3
   },
   "file_extension": ".py",
   "mimetype": "text/x-python",
   "name": "python",
   "nbconvert_exporter": "python",
   "pygments_lexer": "ipython3",
   "version": "3.11.5"
  }
 },
 "nbformat": 4,
 "nbformat_minor": 5
}
