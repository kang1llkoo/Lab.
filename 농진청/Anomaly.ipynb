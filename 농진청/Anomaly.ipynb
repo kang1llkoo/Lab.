{
 "cells": [
  {
   "cell_type": "markdown",
   "id": "e4a36255",
   "metadata": {},
   "source": [
    "### 데이터에서 이상치 감지&제거, 평균 값 대체"
   ]
  },
  {
   "cell_type": "code",
   "execution_count": null,
   "id": "08b7b1ce",
   "metadata": {},
   "outputs": [],
   "source": [
    "class Anomaly:\n",
    "    def simplema(self, df, col, window): # 주어진 df에서 특정 col의 이동 평균(SMA) 계산\n",
    "        return df[col].rolling(window=window, min_periods=1).mean() # min_periods=1 ▶ 데이터 부족해도 최소 1개 있을 때 평균 계산\n",
    "    \n",
    "    def zscore(self, df, col, window, thresh=3, return_all=False):\n",
    "        roll = df[col].rolling(window=window, min_periods=1, center=True) \n",
    "        avg = roll.mean()\n",
    "        std = roll.std(ddof=0)\n",
    "        # zscore 계산\n",
    "        z = df[col].sub(avg).div(std)\n",
    "        # zscore가 임계값 내부에 있는지 확인\n",
    "        m = z.between(-thresh, thresh)\n",
    "        \n",
    "        if return_all:\n",
    "            return z, avg, std, m\n",
    "        return df[col].where(m, avg)\n",
    "    \n",
    "    def boxplot(self, df, col, window, return_all=False):\n",
    "        roll = df[col].rolling(window=window, min_periods=1, center=True)\n",
    "        avg = roll.mean()\n",
    "        q1 = roll.quantile(0.25)\n",
    "        q3 = roll.quantile(0.75)\n",
    "        # 사분위수 계산\n",
    "        iqr = q3 - q1\n",
    "        # fence 설정\n",
    "        fence_low = q1-1.5*iqr\n",
    "        fence_high = q3+1.5*iqr\n",
    "        m = df[col].between(fence_low, fence_high)\n",
    "        \n",
    "        if return_all:\n",
    "            return df[col], avg, m\n",
    "        return df[col].where(m, avg)"
   ]
  }
 ],
 "metadata": {
  "kernelspec": {
   "display_name": "Python 3 (ipykernel)",
   "language": "python",
   "name": "python3"
  },
  "language_info": {
   "codemirror_mode": {
    "name": "ipython",
    "version": 3
   },
   "file_extension": ".py",
   "mimetype": "text/x-python",
   "name": "python",
   "nbconvert_exporter": "python",
   "pygments_lexer": "ipython3",
   "version": "3.11.5"
  }
 },
 "nbformat": 4,
 "nbformat_minor": 5
}
