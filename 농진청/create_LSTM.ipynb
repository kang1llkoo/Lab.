{
 "cells": [
  {
   "cell_type": "code",
   "execution_count": null,
   "id": "40fe0dab",
   "metadata": {},
   "outputs": [],
   "source": [
    "batch_input_size = None\n",
    "time_steps = 7\n",
    "num_features = 5\n",
    "\n",
    "def create_lstm_normal_model(input_shape):\n",
    "    # Input 레이어 생성\n",
    "    inputs = keras.layers.Input(shape=(input_shape[1], input_shape[2]))  # (타임스텝, 특성 수)\n",
    "    # LSTM 레이어\n",
    "    lstm_out = tf.keras.layers.LSTM(units=64,return_sequences = True)(inputs)  # 첫 번째 LSTM 레이어\n",
    "    lstm_out = tf.keras.layers.LSTM(units=64, return_sequences = False)(lstm_out)  # 두 번째 LSTM 레이어\n",
    "    # Dense 레이어\n",
    "    dense_out = keras.layers.Dense(32, activation='relu')(lstm_out)  # ReLU 활성화 함수 적용\n",
    "    # 최종 출력 레이어\n",
    "    outputs = keras.layers.Dense(2)(dense_out)  # shape: (batch_size, time_steps, 2)\n",
    "    # Reshape 레이어로 최종 출력을 (batch_size, 1, 2)로 변환\n",
    "    outputs = keras.layers.Reshape((1, 2))(outputs)\n",
    "    # Functional 모델 생성\n",
    "    model = keras.models.Model(inputs=inputs, outputs=outputs)\n",
    "    # 모델 컴파일\n",
    "    model.compile(\n",
    "        optimizer=keras.optimizers.Adam(learning_rate=0.001),\n",
    "        loss='mean_squared_error',\n",
    "        metrics=[\n",
    "            keras.metrics.MeanSquaredError(),\n",
    "            keras.metrics.RootMeanSquaredError(),\n",
    "            keras.metrics.MeanAbsoluteError()\n",
    "        ]\n",
    "    )\n",
    "    \n",
    "    return model\n",
    "\n",
    "# 모델 생성\n",
    "input_shape = x_train_3d.shape  # (batch_size, time_steps, num_features)\n",
    "model = create_lstm_normal_model(input_shape)\n",
    "\n",
    "# 모델 요약 출력\n",
    "model.summary()"
   ]
  }
 ],
 "metadata": {
  "kernelspec": {
   "display_name": "Python 3 (ipykernel)",
   "language": "python",
   "name": "python3"
  },
  "language_info": {
   "codemirror_mode": {
    "name": "ipython",
    "version": 3
   },
   "file_extension": ".py",
   "mimetype": "text/x-python",
   "name": "python",
   "nbconvert_exporter": "python",
   "pygments_lexer": "ipython3",
   "version": "3.11.5"
  }
 },
 "nbformat": 4,
 "nbformat_minor": 5
}
