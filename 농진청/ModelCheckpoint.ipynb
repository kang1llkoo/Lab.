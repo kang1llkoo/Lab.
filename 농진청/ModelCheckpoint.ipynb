{
 "cells": [
  {
   "cell_type": "markdown",
   "id": "9f423e9f",
   "metadata": {},
   "source": [
    "### modelcheckpoint: 최상의 성능을 낸 모델의 가중치를 저장하여, 재학습 시 가중치를 불러와 학습 진행"
   ]
  },
  {
   "cell_type": "code",
   "execution_count": null,
   "id": "95dff540",
   "metadata": {},
   "outputs": [],
   "source": [
    "from keras.callbacks import ModelCheckpoint\n",
    "\n",
    "path_checkpoint = 'your_checkpoint_storage_spot'\n",
    "\n",
    "modelckpt_callback = ModelCheckpoint(\n",
    "    file_path = path_checkpoint, # 문자열, 가중치를 저장할 파일 경로\n",
    "    monitor = 'val_loss', # 모니터링할 지표\n",
    "    verbose = 1, # 얼마나 자세하게 정보를 표시할지 제어\n",
    "    save_weights_only = True, # True: 가중치만 저장 / False: 모델 구조, 가중치 모두 저장\n",
    "    save_best_only = True\n",
    ")\n",
    "\n",
    "history = model.fit(\n",
    "    x_train,\n",
    "    y_train,\n",
    "    epochs = 44,\n",
    "    validation_data = (x_test, y_test),\n",
    "    callbacks = [modelckpt_callback]\n",
    ")"
   ]
  }
 ],
 "metadata": {
  "kernelspec": {
   "display_name": "Python 3 (ipykernel)",
   "language": "python",
   "name": "python3"
  },
  "language_info": {
   "codemirror_mode": {
    "name": "ipython",
    "version": 3
   },
   "file_extension": ".py",
   "mimetype": "text/x-python",
   "name": "python",
   "nbconvert_exporter": "python",
   "pygments_lexer": "ipython3",
   "version": "3.11.5"
  }
 },
 "nbformat": 4,
 "nbformat_minor": 5
}
